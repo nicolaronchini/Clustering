{
 "cells": [
  {
   "cell_type": "code",
   "execution_count": 47,
   "metadata": {},
   "outputs": [],
   "source": [
    "import numpy as np\n",
    "import pandas as pd\n",
    "from datetime import datetime\n",
    "import matplotlib.pyplot as plt"
   ]
  },
  {
   "cell_type": "code",
   "execution_count": 48,
   "metadata": {},
   "outputs": [
    {
     "data": {
      "text/html": [
       "<div>\n",
       "<style scoped>\n",
       "    .dataframe tbody tr th:only-of-type {\n",
       "        vertical-align: middle;\n",
       "    }\n",
       "\n",
       "    .dataframe tbody tr th {\n",
       "        vertical-align: top;\n",
       "    }\n",
       "\n",
       "    .dataframe thead th {\n",
       "        text-align: right;\n",
       "    }\n",
       "</style>\n",
       "<table border=\"1\" class=\"dataframe\">\n",
       "  <thead>\n",
       "    <tr style=\"text-align: right;\">\n",
       "      <th></th>\n",
       "      <th>ID</th>\n",
       "      <th>Year_Birth</th>\n",
       "      <th>Age</th>\n",
       "      <th>Education</th>\n",
       "      <th>Marital_Status</th>\n",
       "      <th>Income</th>\n",
       "      <th>Spent</th>\n",
       "      <th>Kidhome</th>\n",
       "      <th>Teenhome</th>\n",
       "      <th>Dt_Customer</th>\n",
       "      <th>...</th>\n",
       "      <th>NumWebVisitsMonth</th>\n",
       "      <th>AcceptedCmp3</th>\n",
       "      <th>AcceptedCmp4</th>\n",
       "      <th>AcceptedCmp5</th>\n",
       "      <th>AcceptedCmp1</th>\n",
       "      <th>AcceptedCmp2</th>\n",
       "      <th>Complain</th>\n",
       "      <th>Z_CostContact</th>\n",
       "      <th>Z_Revenue</th>\n",
       "      <th>Response</th>\n",
       "    </tr>\n",
       "  </thead>\n",
       "  <tbody>\n",
       "    <tr>\n",
       "      <th>0</th>\n",
       "      <td>5524</td>\n",
       "      <td>1957</td>\n",
       "      <td>67</td>\n",
       "      <td>Graduation</td>\n",
       "      <td>Alone</td>\n",
       "      <td>58138.0</td>\n",
       "      <td>1617</td>\n",
       "      <td>0</td>\n",
       "      <td>0</td>\n",
       "      <td>2012-09-04</td>\n",
       "      <td>...</td>\n",
       "      <td>7</td>\n",
       "      <td>0</td>\n",
       "      <td>0</td>\n",
       "      <td>0</td>\n",
       "      <td>0</td>\n",
       "      <td>0</td>\n",
       "      <td>0</td>\n",
       "      <td>3</td>\n",
       "      <td>11</td>\n",
       "      <td>1</td>\n",
       "    </tr>\n",
       "    <tr>\n",
       "      <th>1</th>\n",
       "      <td>2174</td>\n",
       "      <td>1954</td>\n",
       "      <td>70</td>\n",
       "      <td>Graduation</td>\n",
       "      <td>Alone</td>\n",
       "      <td>46344.0</td>\n",
       "      <td>27</td>\n",
       "      <td>1</td>\n",
       "      <td>1</td>\n",
       "      <td>2014-03-08</td>\n",
       "      <td>...</td>\n",
       "      <td>5</td>\n",
       "      <td>0</td>\n",
       "      <td>0</td>\n",
       "      <td>0</td>\n",
       "      <td>0</td>\n",
       "      <td>0</td>\n",
       "      <td>0</td>\n",
       "      <td>3</td>\n",
       "      <td>11</td>\n",
       "      <td>0</td>\n",
       "    </tr>\n",
       "    <tr>\n",
       "      <th>2</th>\n",
       "      <td>4141</td>\n",
       "      <td>1965</td>\n",
       "      <td>59</td>\n",
       "      <td>Graduation</td>\n",
       "      <td>Partner</td>\n",
       "      <td>71613.0</td>\n",
       "      <td>776</td>\n",
       "      <td>0</td>\n",
       "      <td>0</td>\n",
       "      <td>2013-08-21</td>\n",
       "      <td>...</td>\n",
       "      <td>4</td>\n",
       "      <td>0</td>\n",
       "      <td>0</td>\n",
       "      <td>0</td>\n",
       "      <td>0</td>\n",
       "      <td>0</td>\n",
       "      <td>0</td>\n",
       "      <td>3</td>\n",
       "      <td>11</td>\n",
       "      <td>0</td>\n",
       "    </tr>\n",
       "    <tr>\n",
       "      <th>3</th>\n",
       "      <td>6182</td>\n",
       "      <td>1984</td>\n",
       "      <td>40</td>\n",
       "      <td>Graduation</td>\n",
       "      <td>Partner</td>\n",
       "      <td>26646.0</td>\n",
       "      <td>53</td>\n",
       "      <td>1</td>\n",
       "      <td>0</td>\n",
       "      <td>2014-02-10</td>\n",
       "      <td>...</td>\n",
       "      <td>6</td>\n",
       "      <td>0</td>\n",
       "      <td>0</td>\n",
       "      <td>0</td>\n",
       "      <td>0</td>\n",
       "      <td>0</td>\n",
       "      <td>0</td>\n",
       "      <td>3</td>\n",
       "      <td>11</td>\n",
       "      <td>0</td>\n",
       "    </tr>\n",
       "    <tr>\n",
       "      <th>4</th>\n",
       "      <td>5324</td>\n",
       "      <td>1981</td>\n",
       "      <td>43</td>\n",
       "      <td>PhD</td>\n",
       "      <td>Partner</td>\n",
       "      <td>58293.0</td>\n",
       "      <td>422</td>\n",
       "      <td>1</td>\n",
       "      <td>0</td>\n",
       "      <td>2014-01-19</td>\n",
       "      <td>...</td>\n",
       "      <td>5</td>\n",
       "      <td>0</td>\n",
       "      <td>0</td>\n",
       "      <td>0</td>\n",
       "      <td>0</td>\n",
       "      <td>0</td>\n",
       "      <td>0</td>\n",
       "      <td>3</td>\n",
       "      <td>11</td>\n",
       "      <td>0</td>\n",
       "    </tr>\n",
       "  </tbody>\n",
       "</table>\n",
       "<p>5 rows × 31 columns</p>\n",
       "</div>"
      ],
      "text/plain": [
       "     ID  Year_Birth  Age   Education Marital_Status   Income  Spent  Kidhome  \\\n",
       "0  5524        1957   67  Graduation          Alone  58138.0   1617        0   \n",
       "1  2174        1954   70  Graduation          Alone  46344.0     27        1   \n",
       "2  4141        1965   59  Graduation        Partner  71613.0    776        0   \n",
       "3  6182        1984   40  Graduation        Partner  26646.0     53        1   \n",
       "4  5324        1981   43         PhD        Partner  58293.0    422        1   \n",
       "\n",
       "   Teenhome Dt_Customer  ...  NumWebVisitsMonth  AcceptedCmp3  AcceptedCmp4  \\\n",
       "0         0  2012-09-04  ...                  7             0             0   \n",
       "1         1  2014-03-08  ...                  5             0             0   \n",
       "2         0  2013-08-21  ...                  4             0             0   \n",
       "3         0  2014-02-10  ...                  6             0             0   \n",
       "4         0  2014-01-19  ...                  5             0             0   \n",
       "\n",
       "   AcceptedCmp5  AcceptedCmp1  AcceptedCmp2  Complain  Z_CostContact  \\\n",
       "0             0             0             0         0              3   \n",
       "1             0             0             0         0              3   \n",
       "2             0             0             0         0              3   \n",
       "3             0             0             0         0              3   \n",
       "4             0             0             0         0              3   \n",
       "\n",
       "   Z_Revenue  Response  \n",
       "0         11         1  \n",
       "1         11         0  \n",
       "2         11         0  \n",
       "3         11         0  \n",
       "4         11         0  \n",
       "\n",
       "[5 rows x 31 columns]"
      ]
     },
     "execution_count": 48,
     "metadata": {},
     "output_type": "execute_result"
    }
   ],
   "source": [
    "data = pd.read_csv(\"marketing_campaign.xls\",sep='\\t')\n",
    "data.Dt_Customer = pd.to_datetime(data.Dt_Customer,format=\"%d-%m-%Y\")\n",
    "data.insert(2,\"Age\",2024-data.Year_Birth)\n",
    "data[\"Marital_Status\"] = data[\"Marital_Status\"].replace({\"Married\":\"Partner\", \"Together\":\"Partner\", \"Absurd\":\"Alone\", \"Widow\":\"Alone\", \"YOLO\":\"Alone\", \"Divorced\":\"Alone\", \"Single\":\"Alone\",})\n",
    "data = data.dropna()\n",
    "data.insert(6,\"Spent\",data[\"MntWines\"]+ data[\"MntFruits\"]+ data[\"MntMeatProducts\"]+ data[\"MntFishProducts\"]+ data[\"MntSweetProducts\"]+ data[\"MntGoldProds\"])\n",
    "data.head()"
   ]
  },
  {
   "cell_type": "code",
   "execution_count": 49,
   "metadata": {},
   "outputs": [
    {
     "data": {
      "text/plain": [
       "(array([ 10.,  18.,  33.,  58.,  68.,  70.,  85.,  77., 129., 141., 152.,\n",
       "        150., 161., 121.,  94., 115., 123.,  99.,  93., 103.,  84.,  94.,\n",
       "         59.,  37.,  24.,  13.,   1.,   1.,   0.,   0.,   0.,   0.,   0.,\n",
       "          0.,   0.,   0.,   0.,   0.,   0.,   0.,   0.,   0.,   0.,   0.,\n",
       "          0.,   0.,   1.,   1.,   0.,   1.]),\n",
       " array([ 28.  ,  30.06,  32.12,  34.18,  36.24,  38.3 ,  40.36,  42.42,\n",
       "         44.48,  46.54,  48.6 ,  50.66,  52.72,  54.78,  56.84,  58.9 ,\n",
       "         60.96,  63.02,  65.08,  67.14,  69.2 ,  71.26,  73.32,  75.38,\n",
       "         77.44,  79.5 ,  81.56,  83.62,  85.68,  87.74,  89.8 ,  91.86,\n",
       "         93.92,  95.98,  98.04, 100.1 , 102.16, 104.22, 106.28, 108.34,\n",
       "        110.4 , 112.46, 114.52, 116.58, 118.64, 120.7 , 122.76, 124.82,\n",
       "        126.88, 128.94, 131.  ]),\n",
       " <BarContainer object of 50 artists>)"
      ]
     },
     "execution_count": 49,
     "metadata": {},
     "output_type": "execute_result"
    },
    {
     "data": {
      "image/png": "[encoded data removed]",
      "text/plain": [
       "<Figure size 432x288 with 1 Axes>"
      ]
     },
     "metadata": {
      "needs_background": "light"
     },
     "output_type": "display_data"
    }
   ],
   "source": [
    "plt.hist(data.Age,bins=50)"
   ]
  },
  {
   "cell_type": "code",
   "execution_count": 50,
   "metadata": {},
   "outputs": [],
   "source": [
    "data = data[data.Age < 100]"
   ]
  },
  {
   "cell_type": "code",
   "execution_count": 51,
   "metadata": {},
   "outputs": [
    {
     "name": "stdout",
     "output_type": "stream",
     "text": [
      "Media: 55.082693176683236\n",
      "Mediana: 54.0\n",
      "Standard deviation: 11.70021612968385\n"
     ]
    }
   ],
   "source": [
    "mean_age = data.Age.mean()\n",
    "median_age = data.Age.median()\n",
    "std_age = data.Age.std()\n",
    "print(\"Media: \" + str(mean_age))\n",
    "print(\"Mediana: \" + str(median_age))\n",
    "print(\"Standard deviation: \" + str(std_age))"
   ]
  },
  {
   "cell_type": "code",
   "execution_count": 52,
   "metadata": {},
   "outputs": [
    {
     "data": {
      "text/plain": [
       "(array([ 24.,  28., 101., 175., 220., 233., 224., 210., 206., 231., 199.,\n",
       "        190., 108.,  43.,   8.,   4.,   1.,   0.,   0.,   0.,   0.,   0.,\n",
       "          1.,   5.,   1.,   0.,   0.,   0.,   0.,   0.,   0.,   0.,   0.,\n",
       "          0.,   0.,   0.,   0.,   0.,   0.,   0.,   0.,   0.,   0.,   0.,\n",
       "          0.,   0.,   0.,   0.,   0.,   0.,   0.,   0.,   0.,   0.,   0.,\n",
       "          0.,   0.,   0.,   0.,   0.,   0.,   0.,   0.,   0.,   0.,   0.,\n",
       "          0.,   0.,   0.,   0.,   0.,   0.,   0.,   0.,   0.,   0.,   0.,\n",
       "          0.,   0.,   0.,   0.,   0.,   0.,   0.,   0.,   0.,   0.,   0.,\n",
       "          0.,   0.,   0.,   0.,   0.,   0.,   0.,   0.,   0.,   0.,   0.,\n",
       "          1.]),\n",
       " array([  1730.  ,   8379.36,  15028.72,  21678.08,  28327.44,  34976.8 ,\n",
       "         41626.16,  48275.52,  54924.88,  61574.24,  68223.6 ,  74872.96,\n",
       "         81522.32,  88171.68,  94821.04, 101470.4 , 108119.76, 114769.12,\n",
       "        121418.48, 128067.84, 134717.2 , 141366.56, 148015.92, 154665.28,\n",
       "        161314.64, 167964.  , 174613.36, 181262.72, 187912.08, 194561.44,\n",
       "        201210.8 , 207860.16, 214509.52, 221158.88, 227808.24, 234457.6 ,\n",
       "        241106.96, 247756.32, 254405.68, 261055.04, 267704.4 , 274353.76,\n",
       "        281003.12, 287652.48, 294301.84, 300951.2 , 307600.56, 314249.92,\n",
       "        320899.28, 327548.64, 334198.  , 340847.36, 347496.72, 354146.08,\n",
       "        360795.44, 367444.8 , 374094.16, 380743.52, 387392.88, 394042.24,\n",
       "        400691.6 , 407340.96, 413990.32, 420639.68, 427289.04, 433938.4 ,\n",
       "        440587.76, 447237.12, 453886.48, 460535.84, 467185.2 , 473834.56,\n",
       "        480483.92, 487133.28, 493782.64, 500432.  , 507081.36, 513730.72,\n",
       "        520380.08, 527029.44, 533678.8 , 540328.16, 546977.52, 553626.88,\n",
       "        560276.24, 566925.6 , 573574.96, 580224.32, 586873.68, 593523.04,\n",
       "        600172.4 , 606821.76, 613471.12, 620120.48, 626769.84, 633419.2 ,\n",
       "        640068.56, 646717.92, 653367.28, 660016.64, 666666.  ]),\n",
       " <BarContainer object of 100 artists>)"
      ]
     },
     "execution_count": 52,
     "metadata": {},
     "output_type": "execute_result"
    },
    {
     "data": {
      "image/png": "[encoded data removed]",
      "text/plain": [
       "<Figure size 432x288 with 1 Axes>"
      ]
     },
     "metadata": {
      "needs_background": "light"
     },
     "output_type": "display_data"
    }
   ],
   "source": [
    "plt.hist(data.Income,bins=100)"
   ]
  },
  {
   "cell_type": "code",
   "execution_count": 53,
   "metadata": {},
   "outputs": [],
   "source": [
    "data = data[data.Income < 600000]"
   ]
  },
  {
   "cell_type": "code",
   "execution_count": 54,
   "metadata": {},
   "outputs": [
    {
     "name": "stdout",
     "output_type": "stream",
     "text": [
      "Media: 51958.81057866185\n",
      "Mediana: 51371.0\n",
      "Standard deviation: 21527.278844050485\n"
     ]
    }
   ],
   "source": [
    "mean_income = data.Income.mean()\n",
    "median_income = data.Income.median()\n",
    "std_income = data.Income.std()\n",
    "print(\"Media: \" + str(mean_income))\n",
    "print(\"Mediana: \" + str(median_income))\n",
    "print(\"Standard deviation: \" + str(std_income))"
   ]
  },
  {
   "cell_type": "code",
   "execution_count": 59,
   "metadata": {},
   "outputs": [
    {
     "name": "stdout",
     "output_type": "stream",
     "text": [
      "Education\n",
      "Graduation    1115\n",
      "PhD            480\n",
      "Master         365\n",
      "2n Cycle       198\n",
      "Basic           54\n",
      "Name: count, dtype: int64\n"
     ]
    }
   ],
   "source": [
    "counts = data.Education.value_counts()\n",
    "print(counts)"
   ]
  },
  {
   "cell_type": "code",
   "execution_count": null,
   "metadata": {},
   "outputs": [],
   "source": []
  }
 ],
 "metadata": {
  "kernelspec": {
   "display_name": "Python 3",
   "language": "python",
   "name": "python3"
  },
  "language_info": {
   "codemirror_mode": {
    "name": "ipython",
    "version": 3
   },
   "file_extension": ".py",
   "mimetype": "text/x-python",
   "name": "python",
   "nbconvert_exporter": "python",
   "pygments_lexer": "ipython3",
   "version": "3.10.6"
  }
 },
 "nbformat": 4,
 "nbformat_minor": 2
}
